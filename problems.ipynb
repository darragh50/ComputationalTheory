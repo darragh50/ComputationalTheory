{
 "cells": [
  {
   "cell_type": "markdown",
   "id": "97eae834",
   "metadata": {},
   "source": [
    "# Computational Theory Problemns"
   ]
  },
  {
   "cell_type": "code",
   "execution_count": null,
   "id": "7138c678",
   "metadata": {
    "vscode": {
     "languageId": "plaintext"
    }
   },
   "outputs": [],
   "source": [
    "# Numerical arrays and methods\n",
    "import numpy as np"
   ]
  },
  {
   "cell_type": "markdown",
   "id": "73d2d951",
   "metadata": {},
   "source": [
    "## Problem 1: Binary Words and Operations"
   ]
  },
  {
   "cell_type": "markdown",
   "id": "2ee19564",
   "metadata": {},
   "source": [
    "## Problem 2: Fractional Parts of Cube Roots"
   ]
  },
  {
   "cell_type": "markdown",
   "id": "2e13e1fd",
   "metadata": {},
   "source": [
    "## Problem 3: Padding"
   ]
  },
  {
   "cell_type": "markdown",
   "id": "44c4a3fa",
   "metadata": {},
   "source": [
    "## Problem 4: Hashes"
   ]
  },
  {
   "cell_type": "markdown",
   "id": "3277ffee",
   "metadata": {},
   "source": [
    "## Problem 5: Passwords"
   ]
  },
  {
   "cell_type": "markdown",
   "id": "df97860c",
   "metadata": {},
   "source": [
    "## End"
   ]
  }
 ],
 "metadata": {
  "language_info": {
   "name": "python"
  }
 },
 "nbformat": 4,
 "nbformat_minor": 5
}
